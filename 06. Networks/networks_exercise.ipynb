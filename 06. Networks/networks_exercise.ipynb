{
 "cells": [
  {
   "cell_type": "markdown",
   "metadata": {},
   "source": [
    "# Networks Exercise"
   ]
  },
  {
   "cell_type": "code",
   "execution_count": null,
   "metadata": {
    "collapsed": false
   },
   "outputs": [],
   "source": [
    "# Imports \n",
    "import sys\n",
    "from py2neo import authenticate, Graph, Relationship\n",
    "#from py2neo.cypher import CypherWriter\n",
    "#import MySQLdb\n",
    "import pandas\n",
    "import pymysql\n",
    "import numpy as np\n",
    "import operator \n",
    "import pprint\n",
    "\n",
    "print \"--COMPLETE--\""
   ]
  },
  {
   "cell_type": "markdown",
   "metadata": {},
   "source": [
    "## Connect to the Neo4j Database\n",
    "Run the cell below to set up a connection to the Neo4j database using py2neo"
   ]
  },
  {
   "cell_type": "code",
   "execution_count": null,
   "metadata": {
    "collapsed": false
   },
   "outputs": [],
   "source": [
    "# set up authentication parameters\n",
    "# replace password\n",
    "authenticate(\"localhost:7474\", \"neo4j\", \"<PASSWORD>\")\n",
    "\n",
    "# Create a variable for our graph and print our connection infomation\n",
    "graph_db = Graph()\n",
    "print graph_db\n"
   ]
  },
  {
   "cell_type": "markdown",
   "metadata": {},
   "source": [
    "#### The cell below is intended for you to test Cypher Queries"
   ]
  },
  {
   "cell_type": "markdown",
   "metadata": {},
   "source": [
    "# Introduction to Neo4j and Cypher\n",
    "## What is a Graph Database?"
   ]
  },
  {
   "cell_type": "markdown",
   "metadata": {},
   "source": [
    "### Quick Review of Neo4j and Cypher \n",
    "\n",
    "When you think of data, you probably imagine an excel table where each row is an individual observation or data point. \n",
    "For example, \n",
    "\n",
    "|name | age | employee_id|\n",
    "|-----|-----|------------|\n",
    "|Joe  |  34 |   12345    |\n",
    "|Ann  |  54 |   12346    |\n",
    "    \n",
    "In a graph database, that row is more like a ball. \n",
    "\n",
    "\n",
    "##### (node: Employee {name:Joe, age: 34, employee_id: 12345})\n",
    "\n",
    "This ball is called a \"node\" in Neo4j. In fact, the little parentheses around Joe's information are designed to help the user think of Joe's information as a little ball. \n",
    "\n",
    "All the information about Joe is still there, but it's just not in a flat table format. Instead of storing each peice of Joe's information in a variable column, Joe's information is stored as **properties**, ie name, age, employee_id.\n",
    "Joe's node also has a **label**, *Employee*, to identify this node as belonging to an employee.\n",
    "\n",
    "\n",
    "Neo4j uses the Cypher Query Language to get information out of the Database. \n",
    "\n",
    "##### Components of a simple Cypher Query:\n",
    "+ MATCH      \n",
    "     - Essentially the same thing as SELECT in SQL \n",
    "+ (n)        \n",
    "    - Any node (the n is just a variable, could be any letter) \n",
    "+ RETURN     \n",
    "    - Needed in every query \n",
    "+ LIMIT      \n",
    "    - Same as in SQL \n",
    "\n",
    "The following query will return 20 nodes from the database:  \n",
    "##### graph_db.cypher.execute(\"MATCH (n) RETURN n LIMIT 20\")\n",
    "\n",
    "If I wanted to query just Award nodes, I would run this query;  \n",
    "##### graph_db.cypher.execute(\"MATCH (n:Award) RETURN n LIMIT 20\")\n"
   ]
  },
  {
   "cell_type": "markdown",
   "metadata": {},
   "source": [
    "## Part A - Cypher Query language"
   ]
  },
  {
   "cell_type": "markdown",
   "metadata": {
    "collapsed": true
   },
   "source": [
    "### Write a query that matches 10 nodes of type Employee and returns the employeeid. Limit to 10 nodes."
   ]
  },
  {
   "cell_type": "code",
   "execution_count": null,
   "metadata": {
    "collapsed": false,
    "nbgrader": {
     "grade": false,
     "grade_id": "squares",
     "locked": false,
     "solution": true
    }
   },
   "outputs": [],
   "source": [
    "graph_db.data(\"MATCH (n:Employee) RETURN n.employeeid LIMIT 10\")"
   ]
  },
  {
   "cell_type": "code",
   "execution_count": null,
   "metadata": {
    "collapsed": false
   },
   "outputs": [],
   "source": [
    "\"\"\"\n",
    "Your query should return a list containing dictonaries.\n",
    "\n",
    "Returned Object from py2neo\n",
    "\n",
    "[{u'n.employeeid': u'90014540'},\n",
    " {u'n.employeeid': u'90026679'},\n",
    " {u'n.employeeid': u'90017693'},\n",
    " {u'n.employeeid': u'90028696'},\n",
    " {u'n.employeeid': u'90013819'},\n",
    " {u'n.employeeid': u'90001118'},\n",
    " {u'n.employeeid': u'90001300'},\n",
    " {u'n.employeeid': u'90023086'},\n",
    " {u'n.employeeid': u'90017074'},\n",
    " {u'n.employeeid': u'90025003'}]\n",
    "\"\"\"\n",
    "print \"________\""
   ]
  },
  {
   "cell_type": "markdown",
   "metadata": {},
   "source": [
    "What makes graph databases like Neo4j special is the ability to create relationships between nodes:\n",
    "\n",
    "For instance, the database has two types of relationships; WORKED_ON  and WORKED_WITH\n",
    " + Employees have a *WORKED_ON* relationship with nodes which represent awards on which the person has worked.   \n",
    " + Employees have a *WORKED_WITH* relationship other persons that have worked on the same award.   \n",
    "\n",
    "To view what this looks like, this query will return 5 instances of the pattern where an employee worked_on an award, and return the relationship. \n",
    "\n",
    "#### graph_db.cypher.execute(\"MATCH (e)-[r:WORKED_ON]->(a) RETURN  r LIMIT 5;\")\n",
    "\n",
    "If you look at this query you kinda see a pattern of (node1) -[relationship]-> (node2). You can imagine that this is one ball with an arrow pointing to another ball. Each ball is a node of data and the arrow is a relationship.  What this query is asking the the database to do is go through all the nodes and relationships and find the pattern where one node has a realtionship pointing to another node and that realtionship has the label \"WORKED_ON\".  \n"
   ]
  },
  {
   "cell_type": "markdown",
   "metadata": {
    "collapsed": true
   },
   "source": [
    "### Write a query that matches nodes of type Employee that have a WORKED_WITH relationship with another node of type Employee. return the employeeid of both employee nodes. Limit the response to 5.  "
   ]
  },
  {
   "cell_type": "code",
   "execution_count": null,
   "metadata": {
    "collapsed": false
   },
   "outputs": [],
   "source": [
    "graph_db.data(\"MATCH (a)-[r:WORKED_WITH]->(b) RETURN a.employeeid, b.employeeid LIMIT 5;\") "
   ]
  },
  {
   "cell_type": "code",
   "execution_count": null,
   "metadata": {
    "collapsed": false,
    "nbgrader": {
     "grade": true,
     "grade_id": "correct_squares",
     "locked": true,
     "points": 1,
     "solution": false
    }
   },
   "outputs": [],
   "source": [
    "\"\"\"\n",
    "Your query should return a list containing dictonaries.\n",
    "\n",
    "[{u'a.employeeid': u'90000919', u'b.employeeid': u'90028696'},\n",
    " {u'a.employeeid': u'90024693', u'b.employeeid': u'90013819'},\n",
    " {u'a.employeeid': u'90001652', u'b.employeeid': u'90001118'},\n",
    " {u'a.employeeid': u'90025754', u'b.employeeid': u'90001300'},\n",
    " {u'a.employeeid': u'90004472', u'b.employeeid': u'90023086'}]\n",
    "\n",
    "\"\"\"\n",
    "print \"_______\"\n",
    "\n"
   ]
  },
  {
   "cell_type": "markdown",
   "metadata": {
    "collapsed": true,
    "nbgrader": {
     "grade": true,
     "grade_id": "squares_invalid_input",
     "locked": true,
     "points": 1,
     "solution": false
    }
   },
   "source": [
    "## Neo4j and Networkx "
   ]
  },
  {
   "cell_type": "markdown",
   "metadata": {},
   "source": [
    "This would all be so much cooler if you could see the data, right?\n",
    "\n",
    "But first, we have to convert our neo4j data into a networkx object after the Cypher query is executed.  For example:"
   ]
  },
  {
   "cell_type": "code",
   "execution_count": null,
   "metadata": {
    "collapsed": false,
    "scrolled": true
   },
   "outputs": [],
   "source": [
    "#Imports that should really be at the top of the notebook \n",
    "import networkx\n",
    "# Allows plots to be showed inline \n",
    "#import matplotlib as plt\n",
    "%matplotlib inline\n",
    "\n",
    "\n",
    "# Get ALL the Nodes and relationships \n",
    "# The below query translates to,\n",
    "# find all nodes that have a relationship with another node (this is any node in our graph)\n",
    "# Return all the data for the nodes and relationships that are found \n",
    "all_data = graph_db.data(\"MATCH (n1) -[r]-> (n2) RETURN n1, r, n2;\") \n",
    "\n",
    "# print all_data\n",
    "\n",
    "# The following code is used to keep track of employees vs. students vs. award numbers,\n",
    "emps = {}\n",
    "awards = {} \n",
    "students = {}\n",
    "color_vals = []\n",
    "\n",
    "for tuple in all_data:\n",
    "    # print \"tuple: \", tuple\n",
    "    n1_keys = tuple[\"n1\"].keys()\n",
    "    if \"position\" in n1_keys:\n",
    "        if tuple[\"n1\"][\"position\"] == \"FACULTY\":\n",
    "            emps[tuple[\"n1\"][\"employeeid\"]] = 1\n",
    "        else:\n",
    "            students[tuple[\"n1\"][\"employeeid\"]] = 1\n",
    "    else:\n",
    "        awards[tuple[\"n1\"][\"award_num\"]] = 1\n",
    "        \n",
    "\n",
    "#Convert all_data to a dataframe object\n",
    "all_data_df = pandas.DataFrame(all_data)\n",
    "\n",
    "# Adding a 'weight' to see connections better\n",
    "all_data_df['weight'] = .01\n",
    "\n",
    "# Create a networkx graph of all the data \n",
    "all_data_g = networkx.from_pandas_dataframe(all_data_df, 'n1', 'n2', ['weight'])\n",
    "\n",
    "# Color the nodes\n",
    "for node in all_data_g.nodes(data =True):\n",
    "    id = 0\n",
    "    if \"employeeid\" in node[0].keys():\n",
    "        id = node[0][\"employeeid\"]\n",
    "    else:\n",
    "        id = node[0][\"award_num\"]\n",
    "\n",
    "    if id in emps:\n",
    "        color_vals.append ('g')  # green\n",
    "    elif id in students:\n",
    "        color_vals.append ('y')  # yellow\n",
    "    else:\n",
    "        color_vals.append ('r')  # red\n",
    "    \n",
    "print \"--COMPLETE--\""
   ]
  },
  {
   "cell_type": "markdown",
   "metadata": {},
   "source": [
    "### Graph all the Data! \n",
    "Run the cell below to create a networkx graph of all the data"
   ]
  },
  {
   "cell_type": "code",
   "execution_count": null,
   "metadata": {
    "collapsed": false
   },
   "outputs": [],
   "source": [
    "# visualize the network       \n",
    "networkx.draw(all_data_g, node_color=color_vals)"
   ]
  },
  {
   "cell_type": "markdown",
   "metadata": {},
   "source": [
    "**Admittently, this is not the most informative graph.  There are too many nodes and connections to be able to see any patterners or insigths in the dataset. At best, you might be able to get a rough idea of the relative number of Employees, to awards to students **"
   ]
  },
  {
   "cell_type": "markdown",
   "metadata": {},
   "source": [
    "### We just created a plot of all the Employees, Students, and Awards in the Graph.  Now let's practice plotting subgraphs. \n",
    " \n",
    "\n",
    "### Write a function that accepts a specific award number, finds all the Employees/Students who worked on that award, and return the data as a networkx graph. Also, have your function plot the graph. \n",
    "\n",
    "\n",
    "\n",
    "**Hint: The folowing line returns the employees and student who worked on the award aw1006**\n",
    "MATCH (n) -[r:WORKED_ON] -> (a:Award {award_num:'aw1006'}) RETURN n,r\n",
    "\n",
    "**Hint: you can pass parameters to a ipython magic call by placing the parameter in curly brakets, the cell below shows an example**\n"
   ]
  },
  {
   "cell_type": "code",
   "execution_count": null,
   "metadata": {
    "collapsed": false
   },
   "outputs": [],
   "source": [
    "# This is the employee id of an employee I would like to search for. It is saved into a parameter, employee_id_parameter \n",
    "employee_id_parameter = '90022882'\n",
    "\n",
    "# This line searches for an employee where the employee id is provided by the parameter, employee_id_parameter \n",
    "# This query translates to,\n",
    "# Find the Node of type Employee where the employee id is equal to the value in the\n",
    "# variable employee_id_parameter. Return that nodes data. \n",
    "graph_db.data(\"MATCH (e:Employee {employeeid:\" + \"'\" + employee_id_parameter + \"'\" +\"}) RETURN e;\") "
   ]
  },
  {
   "cell_type": "code",
   "execution_count": null,
   "metadata": {
    "collapsed": false
   },
   "outputs": [],
   "source": [
    "def employee_peers(award_num):\n",
    "    \"\"\"\n",
    "    Creates a networkx plot of employees and students that have worked on an award.\n",
    "    \n",
    "    Parameters\n",
    "    ----------\n",
    "    award_num - The award_num of a specifc award, ie aw1006\n",
    "    \n",
    "    Returns \n",
    "    --------\n",
    "    A Networkx graph object of an award and the persons who worked on that award \n",
    "    \n",
    "    \"\"\"\n",
    "    # Collect Employees that worked with that Employee \n",
    " \n",
    "    award = award_num\n",
    "    # This Cypher Query translates to,\n",
    "    # Fins the nodes that have a WORKED_ON relationship with an node of type Award that has the award_num of the value of the \n",
    "    # award variable. Return the employeeid and award number of the found nodes \n",
    "    query = graph_db.data(\"MATCH (n) -[r:WORKED_ON]-> (a:Award {award_num:\" + \"'\" + award + \"'\" + \"}) RETURN n.employeeid, a.award_num;\") \n",
    "    \n",
    "    # Convert to DataFrame\n",
    "    node_data = pandas.DataFrame(query)\n",
    "    cols = node_data.columns\n",
    "    cols = cols.map(lambda x: x.replace('.', '_') if isinstance(x, (str, unicode)) else x)\n",
    "    node_data.columns = cols\n",
    "    \n",
    "    pprint.pprint(node_data)\n",
    "\n",
    "    # Create the Networkx Graph \n",
    "    G = networkx.from_pandas_dataframe(node_data, 'n_employeeid', 'a_award_num')\n",
    "    \n",
    "\n",
    "    # The following code is used to keep track of employees vs. award numbers,\n",
    "    # and then to assign colors to nodes of each type in the graph\n",
    "    emps = dict.fromkeys(node_data.n_employeeid.unique(), 1)\n",
    "    awards = dict.fromkeys(node_data.a_award_num.unique(), 1)\n",
    "    color_vals = []\n",
    "    \n",
    "    \n",
    "    for node in G.nodes(data =True):\n",
    "        if node[0] in emps:\n",
    "            color_vals.append ('g')  # green\n",
    "        else:\n",
    "            color_vals.append ('r')  # red\n",
    "        \n",
    "    networkx.draw(G, node_color = color_vals)\n",
    "    \n",
    "    #Return the Graph Object \n",
    "    return G \n",
    "        \n",
    "# Testing the function with the award aw1501\n",
    "employee_peers(\"aw1501\")"
   ]
  },
  {
   "cell_type": "markdown",
   "metadata": {},
   "source": [
    "## Anaylsing Networks \n",
    "The networkx module also has built in tools to analyse graphs. The following measurements are used to assess how the nodes are related to each other in the graph database."
   ]
  },
  {
   "cell_type": "markdown",
   "metadata": {
    "collapsed": true
   },
   "source": [
    "### Network Measurements \n",
    "Here is some common vocabularly when studing networks: \n",
    "\n",
    " **Degree Centrality ** - counts the number of edges that a node has \n",
    "     - Nodes with a high degree of connections usually play an important role in a network \n",
    " **Betweenness ** - indicator of a nodes centality in a network. \n",
    "     - Equal to the number of shortest paths from all vertices to all others that pass through that node \n",
    " **Diameter** - The longest shrortest path over all pairs of nodes \n",
    "     - Often we want to find the shortest distance between two nodes; the diameter is the longest of theses paths \n",
    "     - Nodes that occur on many shortest paths between other nodes in the graph have a high betweenness centrality score \n",
    " **Cliques ** - A clique is a subset of vertices of an undirected graph such that every two distinct vertices in the clique are adjacent.\n",
    "\n",
    "The functions below are written for your conviencence by http://www.slideshare.net/arnicas/a-quick-and-dirty-intro-to-networkx-and-d3\n",
    "\n",
    "     \n",
    "   \n",
    " "
   ]
  },
  {
   "cell_type": "code",
   "execution_count": null,
   "metadata": {
    "collapsed": false,
    "nbgrader": {
     "grade": true,
     "grade_id": "correct_sum_of_squares",
     "locked": true,
     "points": 1,
     "solution": false
    }
   },
   "outputs": [],
   "source": [
    "def calculate_degree_centrality(graph):\n",
    "    ''' \n",
    "    Calculate degree centrality of a node, sets value on node as attribute; returns graph, and dict of the degree centrality values.\n",
    "\tAlso has code to print the top 10 nodes by degree centrality to console\n",
    "    \n",
    "    Parameters\n",
    "    ----------\n",
    "    graph - A Networkx object Graph \n",
    "\t'''\n",
    "    g = graph\n",
    "    dc = networkx.degree_centrality(g)\n",
    "    networkx.set_node_attributes(g, 'degree_centrality', dc)\n",
    "    degcent_sorted = sorted(dc.items(), key = operator.itemgetter(1), reverse = True)\n",
    "    for key, vlaue in degcent_sorted[0:10]:\n",
    "        print \"Highest degree Centrality:\", key, vlaue\n",
    "    return graph, dc \n",
    "\n",
    "print \"--COMPLETE--\""
   ]
  },
  {
   "cell_type": "code",
   "execution_count": null,
   "metadata": {
    "collapsed": false
   },
   "outputs": [],
   "source": [
    "def calculate_betweenness(graph):\n",
    "    ''' \n",
    "    Calculate betweenness centrality of a node, sets value on node as attribute; returns graph, and dict of the betweenness centrality values\n",
    "\n",
    "    Parameters\n",
    "    ----------\n",
    "    graph - A Networkx object Graph \n",
    "    '''\n",
    "    g = graph\n",
    "    bc=networkx.betweenness_centrality(g)\n",
    "    networkx.set_node_attributes(g,'betweenness',bc)\n",
    "    degcent_sorted = sorted(bc.items(), key = operator.itemgetter(1), reverse = True)\n",
    "    for key, vlaue in degcent_sorted[0:10]:\n",
    "        print \"Highest Betweeness :\", key, vlaue\n",
    "    return g #, bc\n",
    "\n",
    "print \"--COMPLETE--\""
   ]
  },
  {
   "cell_type": "code",
   "execution_count": null,
   "metadata": {
    "collapsed": false
   },
   "outputs": [],
   "source": [
    "def find_cliques(graph):\n",
    "\t''' \n",
    "    Calculate cliques and return as sorted list.  Print sizes of cliques found.\n",
    "    \n",
    "    Parameters\n",
    "    ----------\n",
    "    graph - A Networkx object Graph \n",
    "\t'''\n",
    "\tg = graph\n",
    "\tcl = networkx.find_cliques(g)\n",
    "\tcl = sorted(list( cl ), key=len, reverse=True)\n",
    "\tprint \"Number of cliques:\", len(cl)\n",
    "\tcl_sizes = [len(c) for c in cl]\n",
    "\tprint \"Size of cliques:\", cl_sizes\n",
    "\treturn cl\n",
    "\n",
    "print \"--COMPLETE--\""
   ]
  },
  {
   "cell_type": "code",
   "execution_count": null,
   "metadata": {
    "collapsed": false
   },
   "outputs": [],
   "source": [
    "def find_diameter(graph):\n",
    "    \"\"\"\n",
    "    Calculate the Diameter of a graph\n",
    "    \n",
    "    Parameters\n",
    "    ----------\n",
    "    graph - A Networkx object Graph    \n",
    "    \"\"\"\n",
    "    diameter = networkx.diameter(graph)\n",
    "    print \"Diameter: \", diameter\n",
    "    return diameter\n",
    "\n",
    "print \"--COMPLETE--\""
   ]
  },
  {
   "cell_type": "markdown",
   "metadata": {},
   "source": [
    "## Part B(a) - Analysing Graphs \n",
    "\n",
    "### Preform some exploritory analysis on the full data. Use the funtions above to,\n",
    "    1. Obtain a list of the highest 10 levels of Degree Centrality\n",
    "    2. Obtain a list of the highest 10 levels of Betweenness\n",
    "    3. The number of cliques and the sizes of those cliques. \n",
    "        \n",
    "    \n",
    "By looking at these results, what do you think about the shape of the graph? How would you charaterize the relationships in the graph? "
   ]
  },
  {
   "cell_type": "code",
   "execution_count": null,
   "metadata": {
    "collapsed": false,
    "nbgrader": {
     "grade": true,
     "grade_id": "sum_of_squares_uses_squares",
     "locked": true,
     "points": 1,
     "solution": false
    },
    "scrolled": false
   },
   "outputs": [],
   "source": [
    "print \"_________________DEGREE CENTRALITY ________________\"\n",
    "calculate_degree_centrality(all_data_g)\n",
    "print \"_________________Betweenness ________________\"\n",
    "print calculate_betweenness(all_data_g)\n",
    "print \"_________________Cliques ________________\"\n",
    "find_cliques(all_data_g)\n",
    "print \"__________________________________________\""
   ]
  },
  {
   "cell_type": "markdown",
   "metadata": {},
   "source": [
    "## Part B(b) - Analysing a Sub Graph \n",
    "\n",
    "From looking at the measures above, it seems like our graph has a lot of independent units that are not connected to the larger graph. For instances, there are a lot of cliques with length 2. This indicates one employee working on one award. Let's say we are intrested in the sub-network where all the nodes are connected. \n",
    "\n",
    "### Preform the same exploritory analysis on the subset created below. The subset is the largest connected set of nodes in the graph. \n",
    "\n",
    "Use the funtions above to,\n",
    "    1. Obtain a list of the highest 10 levels of Degree Centrality\n",
    "    2. Obtain a list of the highest 10 levels of Betweenness\n",
    "    3. The number of cliques and the sizes of those cliques\n",
    "    4. Find the Diameter of the Subgraph\n",
    "    \n",
    "By looking at these results, what do you think about the shape of the graph? how would you charaterized the relationships in the graph? "
   ]
  },
  {
   "cell_type": "code",
   "execution_count": null,
   "metadata": {
    "collapsed": false
   },
   "outputs": [],
   "source": [
    "# Create the Subgraph \n",
    "subgraph_generator = max(networkx.connected_components(all_data_g), key =len)\n",
    "\n",
    "subgraph_g = all_data_g.subgraph(subgraph_generator)\n",
    "\n",
    "# Keep track of descriptive counters\n",
    "num_awards = 0\n",
    "num_faculty = 0\n",
    "num_students = 0\n",
    "\n",
    "# Color the nodes\n",
    "color_vals = []\n",
    "for node in subgraph_g.nodes(data =True):\n",
    "    id = 0\n",
    "    if \"employeeid\" in node[0].keys():\n",
    "        id = node[0][\"employeeid\"]\n",
    "    else:\n",
    "        id = node[0][\"award_num\"]\n",
    "\n",
    "    if id in emps:\n",
    "        color_vals.append ('g')  # green\n",
    "        num_faculty += 1\n",
    "    elif id in students:\n",
    "        color_vals.append ('y')  # yellow\n",
    "        num_students += 1\n",
    "    else:\n",
    "        color_vals.append ('r')  # red\n",
    "        num_awards += 1\n",
    "\n",
    "networkx.draw(subgraph_g, node_color=color_vals)\n",
    "\n",
    "person_data = list(networkx.get_node_attributes(subgraph_g,'position').values())\n",
    "\n",
    "print 'Number of Awards: ', num_awards\n",
    "print 'Number of Students: ', num_students\n",
    "print 'Number of Faculty: ', num_faculty"
   ]
  },
  {
   "cell_type": "code",
   "execution_count": null,
   "metadata": {
    "collapsed": false
   },
   "outputs": [],
   "source": [
    "print \"_________________DEGREE CENTRALITY ________________\"\n",
    "calculate_degree_centrality(subgraph_g)\n",
    "print \"_________________Betweenness ________________\"\n",
    "print calculate_betweenness(subgraph_g)\n",
    "print \"_________________Cliques ________________\"\n",
    "find_cliques(subgraph_g)\n",
    "print \"_________________Diameter ________________\"\n",
    "find_diameter(subgraph_g)\n",
    "print \"______________________________________________\""
   ]
  },
  {
   "cell_type": "markdown",
   "metadata": {},
   "source": [
    "# Plotting the Results \n",
    "\n",
    "Betweeness and Centrality are both measures on how connnected a node is to its surounding nodes. However, they measure connectiveness in slightly different ways. A Node with high Degree centrality does not nessasarily mean the node also has a high level a Betwennness Centrality.\n",
    "\n",
    "   A node with high betweenness but low degree might indicated that a node's few connections are critical to the shape of the graph\n",
    "\n",
    "   A node with high degree but low betweenness might indicate that a node's connections are redundent and connections can bypass that node\n",
    "    \n",
    "    \n",
    "### Run the Cell below to create a scatterplot of betweeness vs centrality of our subgraph"
   ]
  },
  {
   "cell_type": "code",
   "execution_count": null,
   "metadata": {
    "collapsed": false
   },
   "outputs": [],
   "source": [
    "dc_data = list(networkx.degree_centrality(subgraph_g).values())\n",
    "bw_data = list(networkx.betweenness_centrality(subgraph_g).values())\n",
    "\n",
    "import numpy as np\n",
    "import matplotlib.pyplot as plt\n",
    "\n",
    "x = dc_data\n",
    "y = bw_data\n",
    "\n",
    "plt.scatter(x, y)\n",
    "\n",
    "#title\n",
    "plt.title(\"Betweenness vs Centrality\")\n",
    "\n",
    "#labels\n",
    "plt.xlabel(\"Degree Centrality\")\n",
    "plt.ylabel(\"Betweenness Centrality\")\n",
    "plt.show()"
   ]
  },
  {
   "cell_type": "markdown",
   "metadata": {},
   "source": [
    "# Part C - Analysing Graphs"
   ]
  },
  {
   "cell_type": "markdown",
   "metadata": {},
   "source": [
    " 1) Write a function that plots histgrams of the Degree of Centrality and Betweenness\n",
    "     The function should take a networks graph as a parameter and return nothing\n",
    " \n",
    " 2) Use the find_cliques() function to find the number of cliques in the graph \n",
    " \n",
    " 3) Based of the graph you created above, the number of cliques, and the histograms of Centrality and Betweenness, how would you discribe the community this graph represents? \n",
    " \n",
    " Hint: Use networkx documentation to find a function that allows you to collect the attributes of a node "
   ]
  },
  {
   "cell_type": "code",
   "execution_count": null,
   "metadata": {
    "collapsed": false,
    "scrolled": false
   },
   "outputs": [],
   "source": [
    "# Your soultion should Look somthing Like this \n",
    "\n",
    "def graph_data(graph):\n",
    "    \"\"\"\n",
    "    Creates histograms of the the Degree of Centrality and the Betweenness Centrality \n",
    "    \n",
    "    Parameters\n",
    "    ----------\n",
    "    graph - A Networkx object Graph. Graph nodes must have degree_centrality and betweenness attributes\n",
    "    \n",
    "    \"\"\"\n",
    "    # Create an empty list to hold all of our degree_centrality items  \n",
    "    cen_list = []\n",
    "    # Use the built in function get_node_attributes to collect the degree_centrality for each node\n",
    "    for item in networkx.get_node_attributes(graph, 'degree_centrality'):\n",
    "        cen_list.append(networkx.get_node_attributes(graph, 'degree_centrality')[item])\n",
    "    \n",
    "    # Pass the cen_list to a plt object and plot as a histogram \n",
    "    plt.figure(1)\n",
    "    #title\n",
    "    plt.title(\"Degree Centrality\")\n",
    "\n",
    "    #labels\n",
    "    plt.xlabel(\"Degree Centrality\")\n",
    "    \n",
    "    plt.hist(cen_list)\n",
    "    \n",
    "    # Create an empty list to hold all of our eigen_cent items \n",
    "    bw_list = []\n",
    "    # Use the built in function get_node_attributes to collect the eigen_cent for each node\n",
    "    for item in networkx.get_node_attributes(graph, 'betweenness'):\n",
    "        bw_list.append(networkx.get_node_attributes(graph, 'betweenness')[item])\n",
    "    \n",
    "    # Pass the eig_list to a plt object and plot as a histogram \n",
    "    plt.figure(2)\n",
    "    #title\n",
    "    plt.title(\"Betweeness Centrality\")\n",
    "\n",
    "    #labels\n",
    "    plt.xlabel(\"Betweeness Centrality\")\n",
    "    plt.hist(bw_list)\n",
    "\n",
    "    \n",
    "# Call the function graph_data() on our Networkx graph \n",
    "graph_data(subgraph_g)\n",
    "\n"
   ]
  },
  {
   "cell_type": "code",
   "execution_count": null,
   "metadata": {
    "collapsed": false
   },
   "outputs": [],
   "source": [
    "# Call the fucntion find_cliques() on our Networkx graph \n",
    "find_cliques(subgraph_g)"
   ]
  }
 ],
 "metadata": {
  "anaconda-cloud": {},
  "celltoolbar": "Create Assignment",
  "kernelspec": {
   "display_name": "Python [Root]",
   "language": "python",
   "name": "Python [Root]"
  },
  "language_info": {
   "codemirror_mode": {
    "name": "ipython",
    "version": 3
   },
   "file_extension": ".py",
   "mimetype": "text/x-python",
   "name": "python",
   "nbconvert_exporter": "python",
   "pygments_lexer": "ipython3",
   "version": "3.5.2"
  }
 },
 "nbformat": 4,
 "nbformat_minor": 0
}
