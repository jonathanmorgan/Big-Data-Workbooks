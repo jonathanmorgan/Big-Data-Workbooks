{
 "cells": [
  {
   "cell_type": "markdown",
   "metadata": {},
   "source": [
    "# Data, Databases, SQL, and interacting with databases using Python\n",
    "\n",
    "For this exercise, we will be using data contained in the \"homework\" database. This notebook will walk you through accessing the class homework data using IPython Notebook and help to familiarize you with the available class data.\n",
    "\n",
    "## Table of Contents\n",
    "\n",
    "- [Tables we will look at](#Tables-we-will-look-at)\n",
    "\n",
    "    - [StarMetrics Database](#StarMetrics-Database)\n",
    "    - [UMETRICS Grants Database](#UMETRICS-Grants-Database)\n",
    "    - [USPTO Patents](#USPTO-Patents)\n",
    "\n",
    "- [Databases and Python](#Databases-and-Python)\n",
    "\n",
    "    - [Making and using a database connection](#Making-and-using-a-database-connection)\n",
    "    \n",
    "        - [Create database connection](#Create-database-connection)\n",
    "        - [Create database cursor](#Create-database-cursor)\n",
    "    \n",
    "    - [Troubleshooting problems with connections and cursors](#Troubleshooting-problems-with-connections-and-cursors)\n",
    "    \n",
    "        - [MySQL server has gone away](#MySQL-server-has-gone-away)\n",
    "        - [ProgrammingError: cursor closed](#ProgrammingError:-cursor-closed)\n",
    "    \n",
    "    - [Querying the database](#Querying-the-database)\n",
    "    \n",
    "        - [Executing an SQL statement](#Executing-an-SQL-statement)\n",
    "        - [Fetch column names from result row](#Fetch-column-names-from-result-row)\n",
    "        - [Fetch a certain number of rows](#Fetch-a-certain-number-of-rows)\n",
    "        - [Processing all rows in a large table](#Processing-all-rows-in-a-large-table)\n",
    "        - [Processing a large table one row at a time](#Processing-a-large-table-one-row-at-a-time)\n",
    "    \n",
    "    - [Close what you open](#Close-what-you-open)\n",
    "    \n",
    "- [SQL](#SQL)\n",
    "\n",
    "    - [Querying the database](#Querying-the-database)\n",
    "    - [**Exercise 1**](#Exercise-1)\n",
    "    - [WHERE clauses: Limiting the results](#WHERE-clauses:-Limiting-the-results)\n",
    "    - [**Exercise 2**](#Exercise-2)\n",
    "    - [JOIN: Connecting multiple tables](#JOIN:-Connecting-multiple-tables)\n",
    "    - [GROUP BY and aggregate functions](#GROUP-BY-and-aggregate-functions)\n",
    "    - [**Exercise 3**](#Exercise-3)\n",
    "    - [ORDER BY](#ORDER-BY)\n",
    "    - [Modifying the database](#Modifying-the-database)\n",
    "\n",
    "- [Addendum - Different ways to make a cursor](#Addendum---Different-ways-to-make-a-cursor)"
   ]
  },
  {
   "cell_type": "markdown",
   "metadata": {},
   "source": [
    "## Database Tables\n",
    "\n",
    "- Back to the [Table of Contents](#Table-of-Contents)\n",
    "\n",
    "For these exercises we will use tables in the \"homework\" database. These tables are based on the data structure used for the data collected from the STARMETRICS initiative. The data is a realistic representation of STARMETRICS data but is not actual data submitted by participating universities. See the installation guide to install the data before continuing with this notebook. \n",
    "\n",
    "### Tables for this homework assignment\n",
    "\n",
    "For this assignment, we will be connecting to the \"homework\" database and looking at the \"vendor\" and \"ugrant\" tables.  Basic information on these tables follows. \n",
    "\n",
    "#### vendor\n",
    "\n",
    "This dataset includes synthetic transaction data that describes university expenditures on a federal grants. Note that this information does not tell you what goods/services were bought, but tells you who was paid and how much was spent. \n",
    "\n",
    "#### ugrant\n",
    "\n",
    "This dataset includes public grant information from NSF and NIH websites that describe the funded grant projects. Data was collected from www.nsf.gov and www.projectreporter.nih.gov. "
   ]
  },
  {
   "cell_type": "markdown",
   "metadata": {},
   "source": [
    "## Databases and Python\n",
    "\n",
    "- Back to the [Table of Contents](#Table-of-Contents)\n",
    "\n",
    "### Making and using a database connection\n",
    "\n",
    "- Back to the [Table of Contents](#Table-of-Contents)\n",
    "\n",
    "Python lets you interact with databases using SQL just like you would in any SQL gui or terminal. Python code can do SELECTs, CREATEs, INSERTs, UPDATEs, and DELETEs, and any other SQL, and the results are returned in a format that lets you interact with them after the SQL statements finish.\n",
    "\n",
    "To interact with a database using python, first you have to connect to the database.\n",
    "\n",
    "To create a database connection, you first must import that database's DB-API implementation, then you call the connect() function, passing it information on where to find the database to which you are trying to connect.\n",
    "\n",
    "_Note: in most cases, it is best to place the values you pass to a function or method in variables:_\n",
    "\n",
    "    # declare variables\n",
    "    user = \"username\"\n",
    "    password = \"password\"\n",
    "    database = \"homework\"\n",
    "\n",
    "    # invoke the connect() function, passing parameters in variables.\n",
    "    db = pymysql.connect( user = user, passwd = password, db = database )\n",
    "\n",
    "_rather than placing the values directly in the arguments in a function or method call:_\n",
    "\n",
    "    # invoke the connect() function, passing values directly to function.\n",
    "    db = pymysql.connect( user = \"username\", passwd = \"password\", db = \"homework\" )\n",
    "\n",
    "_This allows you change how you populate the values (looking up a value from a command line parameter, for example, or the result of a database query) without also changing the line where the function is invoked.  If you separate setting values and using values, you make it easier to isolate problems with ** how you set the values** from problems with **how you use the values**._\n",
    "\n",
    "#### Create database connection\n",
    "\n",
    "- Back to the [Table of Contents](#Table-of-Contents)"
   ]
  },
  {
   "cell_type": "code",
   "execution_count": null,
   "metadata": {
    "collapsed": false
   },
   "outputs": [],
   "source": [
    "# imports\n",
    "import pymysql\n",
    "\n",
    "#Declares variables\n",
    "username=\"<username>\"\n",
    "password=\"<password>\"\n",
    "database=\"homework\"\n",
    "\n",
    "# invoke the connect() function, passing parameters in variables.\n",
    "db = pymysql.connect( user = username, passwd = password, db = database )\n",
    "\n",
    "# output basic database connection info.\n",
    "print(db)"
   ]
  },
  {
   "cell_type": "markdown",
   "metadata": {},
   "source": [
    "#### Create database cursor\n",
    "\n",
    "- Back to the [Table of Contents](#Table-of-Contents)\n",
    "\n",
    "Next, you use the connection to create a cursor. A cursor takes an SQL statement written as a string in python and passes it to the database, where it is executed. It then uses the results and converts them to a format that can be interacted with using python, and returns that transformed, usable response back to you.\n",
    "\n",
    "To make a cursor, call the cursor() method on the connection object instance returned by the call to connect."
   ]
  },
  {
   "cell_type": "code",
   "execution_count": null,
   "metadata": {
    "collapsed": false
   },
   "outputs": [],
   "source": [
    "#CREATE DATABASE CURSOR\n",
    "# assumes you have alread opened the database using the connect() method.  If not:\n",
    "# db = pymysql.connect( user = username, passwd = password, db = database )\n",
    "\n",
    "# create mysql cursor that maps column names to values in the query result.\n",
    "cursor = db.cursor( pymysql.cursors.DictCursor )\n",
    "\n",
    "# output basic database cursor info.\n",
    "print(cursor)"
   ]
  },
  {
   "cell_type": "markdown",
   "metadata": {},
   "source": [
    "### Troubleshooting problems with connections and cursors\n",
    "\n",
    "- Back to the [Table of Contents](#Table-of-Contents)\n",
    "\n",
    "Throughout the following examples of querying the database, we will be re-using the connection and cursor created above.  If you want to run the code samples below, make sure that you:\n",
    "\n",
    "- enter your credentials in the `username` and `password` variables (same credentials as for jupyter).\n",
    "- run the two code cells above, so you have a connection and a cursor.\n",
    "\n",
    "#### MySQL server has gone away\n",
    "\n",
    "- Back to the [Table of Contents](#Table-of-Contents)\n",
    "\n",
    "This connection also might time out if it is idle for more than a few minutes.  If this happens, you'll see an exception and a stack trace with the message `OperationalError: (2006, 'MySQL server has gone away')` at the end.  \n",
    "\n",
    "Example:\n",
    "\n",
    "    ---------------------------------------------------------------------------\n",
    "    OperationalError                          Traceback (most recent call last)\n",
    "    <ipython-input-3-3649a7756a8b> in <module>()\n",
    "         10 # select\n",
    "         11 sql_select = \"SELECT COUNT( * ) AS 'transaction_count' FROM vendor\"\n",
    "    ---> 12 row_count = cursor.execute( sql_select )\n",
    "         13 \n",
    "         14 # get row and 'transaction_count'\n",
    "\n",
    "    /usr/local/lib/python2.7/dist-packages/pymysql/cursors.pyc in execute(self, query, args)\n",
    "        203             del tb\n",
    "        204             self.messages.append((exc, value))\n",
    "    --> 205             self.errorhandler(self, exc, value)\n",
    "        206         self._executed = query\n",
    "        207         if not self._defer_warnings: self._warning_check()\n",
    "\n",
    "    /usr/local/lib/python2.7/dist-packages/pymysql/connections.pyc in defaulterrorhandler(***failed resolving arguments***)\n",
    "         34     del cursor\n",
    "         35     del connection\n",
    "    ---> 36     raise errorclass, errorvalue\n",
    "         37 \n",
    "         38 re_numeric_part = re.compile(r\"^(\\d+)\")\n",
    "\n",
    "    OperationalError: (2006, 'MySQL server has gone away')\n",
    "    \n",
    "When you encounter this error, it means that your connection has timed out.  To resolve, just re-run the code cells above that [create a connection](#Create-database-connection) and a cursor to re-connect, and you should then be able to go back to the cell you were trying to run and run it again, and it should again be able to access the database.\n",
    "\n",
    "#### ProgrammingError: cursor closed\n",
    "\n",
    "- Back to the [Table of Contents](#Table-of-Contents)\n",
    "\n",
    "If you close your cursor and then try to use it subsequently, or if it times out from being idle, you'll see an exception and a stack trace with the message `ProgrammingError: cursor closed` at the end.  \n",
    "\n",
    "Example:\n",
    "\n",
    "    ---------------------------------------------------------------------------\n",
    "    ProgrammingError                          Traceback (most recent call last)\n",
    "    <ipython-input-9-5ebea9de79c5> in <module>()\n",
    "          8 # select\n",
    "          9 sql_select = \"SELECT * FROM vendor\"\n",
    "    ---> 10 cursor.execute( sql_select )\n",
    "         11 \n",
    "         12 # you can also get rowcount from cursor\n",
    "\n",
    "    /usr/local/lib/python2.7/dist-packages/pymysql/cursors.pyc in execute(self, query, args)\n",
    "        177         \"\"\"\n",
    "        178         del self.messages[:]\n",
    "    --> 179         db = self._get_db()\n",
    "        180         if isinstance(query, unicode):\n",
    "        181             query = query.encode(db.unicode_literal.charset)\n",
    "\n",
    "    /usr/local/lib/python2.7/dist-packages/pymysql/cursors.pyc in _get_db(self)\n",
    "        159     def _get_db(self):\n",
    "        160         if not self.connection:\n",
    "    --> 161             self.errorhandler(self, ProgrammingError, \"cursor closed\")\n",
    "        162         return self.connection\n",
    "        163 \n",
    "\n",
    "    /usr/local/lib/python2.7/dist-packages/pymysql/connections.pyc in defaulterrorhandler(***failed resolving arguments***)\n",
    "         34     del cursor\n",
    "         35     del connection\n",
    "    ---> 36     raise errorclass, errorvalue\n",
    "         37 \n",
    "         38 re_numeric_part = re.compile(r\"^(\\d+)\")\n",
    "\n",
    "    ProgrammingError: cursor closed\n",
    "\n",
    "If you get this error, try [opening a new cursor using the code above](#Create-database-cursor).  Chances are, however, if the cursor is closed, the database connection has also closed, so you'll probably need to first [create a connection](#Create-database-connection). "
   ]
  },
  {
   "cell_type": "markdown",
   "metadata": {},
   "source": [
    "### Querying the database\n",
    "\n",
    "- Back to the [Table of Contents](#Table-of-Contents)\n",
    "\n",
    "#### Executing an SQL statement\n",
    "\n",
    "- Back to the [Table of Contents](#Table-of-Contents)\n",
    "\n",
    "To execute SQL, pass a string that contains an SQL statement to the cursor's execute() method, then call the fetchall() method to pull the rows returned by the query into a list you can loop over.\n",
    "\n",
    "For example: "
   ]
  },
  {
   "cell_type": "code",
   "execution_count": null,
   "metadata": {
    "collapsed": false
   },
   "outputs": [],
   "source": [
    "#QUERYING THE DATABASE\n",
    "#Executing an SQL statement\n",
    "# use cells at top to connect or re-connect to database and make cursor if needed\n",
    "\n",
    "# declare variables\n",
    "sql_select = \"\"\n",
    "result_count = -1\n",
    "query_results = None\n",
    "current_row = None\n",
    "\n",
    "# run a simple select statement against our homework data.\n",
    "#    When executing a SELECT, call to \"execute\" returns the\n",
    "#    number of rows returned by the SELECT.\n",
    "sql_select = \"SELECT * FROM vendor LIMIT 10;\"\n",
    "result_count = cursor.execute( sql_select )\n",
    "\n",
    "# how many rows returned?\n",
    "print( \"Found \" + str( result_count ) + \" rows\" )\n",
    "\n",
    "# get list of rows returned, so we can loop over them.\n",
    "query_results = cursor.fetchall()\n",
    "\n",
    "# loop over the results\n",
    "for current_row in query_results:\n",
    "        \n",
    "    print( \"==> \" + current_row[ \"award_id\" ] + \" - \" + current_row[ \"agency_text\" ] + \" - $\" + str( current_row[ \"paymentamount\" ] ) + \" - \" + current_row[ \"institutionid\" ] )\n",
    "\n",
    "#-- END loop over results --#"
   ]
  },
  {
   "cell_type": "markdown",
   "metadata": {},
   "source": [
    "<hr />\n",
    "\n",
    "#### Fetch column names from result row\n",
    "\n",
    "- Back to the [Table of Contents](#Table-of-Contents)\n",
    "\n",
    "You can retrieve the names of the columns present in a given query's results by grabbing the names (or keys) out of a given row's dictionary:"
   ]
  },
  {
   "cell_type": "code",
   "execution_count": null,
   "metadata": {
    "collapsed": false
   },
   "outputs": [],
   "source": [
    "#Fetch column names from resuts row\n",
    "# use cells at top to connect or re-connect to database and make cursor if needed\n",
    "\n",
    "# declare variables\n",
    "sql_select = \"\"\n",
    "single_row = None\n",
    "column_name_list = []\n",
    "\n",
    "# select\n",
    "sql_select = \"SELECT * FROM vendor\"\n",
    "cursor.execute( sql_select )\n",
    "\n",
    "# get a row, then get its keys\n",
    "single_row = cursor.fetchone()\n",
    "column_name_list = single_row.keys()\n",
    "\n",
    "# what are my column names?\n",
    "print( column_name_list )"
   ]
  },
  {
   "cell_type": "markdown",
   "metadata": {},
   "source": [
    "<hr />\n",
    "\n",
    "#### Fetch a certain number of rows\n",
    "\n",
    "- Back to the [Table of Contents](#Table-of-Contents)\n",
    "\n",
    "In the above example, we use `cursor.fetchone()` to retrieve a single row from the results of the query.  To retrieve one or more rows, but not necessarily all, use the `cursor.fetchmany()` method, passing it a parameter named `size` that contains the number of rows you want returned.\n",
    "\n",
    "Example:"
   ]
  },
  {
   "cell_type": "code",
   "execution_count": null,
   "metadata": {
    "collapsed": false
   },
   "outputs": [],
   "source": [
    "#Fetch a certain number of rows\n",
    "# use cells at top to connect or re-connect to database and make cursor if needed\n",
    "\n",
    "# declare variables\n",
    "row_count = -1\n",
    "desired_row_count = -1\n",
    "result_list = []\n",
    "\n",
    "# select\n",
    "sql_select = \"SELECT * FROM vendor\"\n",
    "row_count = cursor.execute( sql_select )\n",
    "\n",
    "# total returned?\n",
    "print( \"Total rows = \" + str( row_count ) )\n",
    "\n",
    "# that is a lot!  Just get 10...\n",
    "desired_row_count = 10\n",
    "result_list = cursor.fetchmany( size = desired_row_count )\n",
    "\n",
    "# loop over the results\n",
    "for current_row in result_list:\n",
    "        \n",
    "    print( \"==> \" + current_row[ \"award_id\" ] + \" - \" + current_row[ \"agency_text\" ] + \" - $\" + str( current_row[ \"paymentamount\" ] ) + \" - \" + current_row[ \"institutionid\" ] )\n",
    "\n",
    "#-- END loop over results --#"
   ]
  },
  {
   "cell_type": "markdown",
   "metadata": {},
   "source": [
    "<hr />\n",
    "\n",
    "#### Processing all rows in a large table\n",
    "\n",
    "- Back to the [Table of Contents](#Table-of-Contents)\n",
    "\n",
    "To pull the full table into memory, use `cursor.fetchall()`.\n",
    "\n",
    "Be careful, this can take awhile depending on how big the table is, and if your table is truly \"big\", it might not be possible if your computer doesn't have a lot of memory!\n",
    "\n",
    "To see what we are getting into, we will use the SQL `COUNT()` function to see how many rows are in the table.  In order to access the `COUNT()` value in our dictionary result format, we'll assign this count a name using the `AS` SQL keyword.\n",
    "\n",
    "Example:"
   ]
  },
  {
   "cell_type": "code",
   "execution_count": null,
   "metadata": {
    "collapsed": false
   },
   "outputs": [],
   "source": [
    "#Processing all rows in a large table\n",
    "# use cells at top to connect or re-connect to database and make cursor if needed\n",
    "\n",
    "# declare variables\n",
    "row_count = -1\n",
    "single_row = -1\n",
    "transaction_count = -1  # each row in vendor is a transaction!\n",
    "\n",
    "# select\n",
    "sql_select = \"SELECT COUNT( * ) AS 'transaction_count' FROM vendor\"\n",
    "row_count = cursor.execute( sql_select )\n",
    "\n",
    "# get row and 'transaction_count'\n",
    "single_row = cursor.fetchone()\n",
    "transaction_count = single_row[ 'transaction_count' ]\n",
    "print( \"transaction_count = \" + str( transaction_count ) )"
   ]
  },
  {
   "cell_type": "markdown",
   "metadata": {},
   "source": [
    "That's kind of a lot.  But we should see what happens...  Load 'em anyway!"
   ]
  },
  {
   "cell_type": "code",
   "execution_count": null,
   "metadata": {
    "collapsed": false
   },
   "outputs": [],
   "source": [
    "# use cells at top to connect or re-connect to database and make cursor if needed\n",
    "# declare variables\n",
    "row_count = -1\n",
    "single_row = -1\n",
    "vendor_count = -1\n",
    "\n",
    "# select\n",
    "sql_select = \"SELECT * FROM vendor LIMIT 10\"\n",
    "row_count = cursor.execute( sql_select )\n",
    "\n",
    "# default output\n",
    "cursor.fetchall()"
   ]
  },
  {
   "cell_type": "markdown",
   "metadata": {},
   "source": [
    "Jupyter eventually cuts off this statement, saving us from ourselves.\n",
    "\n",
    "<hr />\n",
    "\n",
    "#### Processing a large table one row at a time\n",
    "\n",
    "- Back to the [Table of Contents](#Table-of-Contents)\n",
    "\n",
    "If your data is too big to load all into memory at once, you can just read in one row at a time.  Example is below.  However, if you do this in a Jupyter notebook, you'll likely kill your browser - In the previous example, Jupyter detected that `cursor.fetchall()` was returning a lot of data and truncated that output before it could overwhelm the browser's ability to handle it.\n",
    "\n",
    "_The example below pulls it in one row at a time, and so Jupyter won't know we need help.  70,000 rows might not sound like a lot, but it takes up enough space in browser memory to kill a browser.  I've hard-coded the number of rows below = 10.  Run it with all the rows at your own risk._"
   ]
  },
  {
   "cell_type": "code",
   "execution_count": null,
   "metadata": {
    "collapsed": false
   },
   "outputs": [],
   "source": [
    "#Processing a large table one row at a time\n",
    "\n",
    "# use cells at top to connect or re-connect to database and make cursor if needed\n",
    "\n",
    "# declare variables\n",
    "row_count = -1\n",
    "single_row = -1\n",
    "row_counter = -1\n",
    "\n",
    "# select\n",
    "sql_select = \"SELECT * FROM vendor\"\n",
    "cursor.execute( sql_select )\n",
    "\n",
    "# you can also get rowcount from cursor\n",
    "row_count = cursor.rowcount\n",
    "\n",
    "# if we actually process all rows this way, it will kill browser.\n",
    "#    Just do 10, to show how it works.\n",
    "row_count = 10\n",
    "\n",
    "# Use for loop to loop row_count times, fetching one row\n",
    "#    each time through the loop.\n",
    "for row_counter in range( row_count ):\n",
    "        \n",
    "    single_row = cursor.fetchone()\n",
    "    print( \"==> \" + str( row_counter) + \" - \" + str( single_row ) )\n",
    "\n",
    "#-- END loop over rows, fetching one at a time --#"
   ]
  },
  {
   "cell_type": "markdown",
   "metadata": {},
   "source": [
    "<hr />\n",
    "\n",
    "### Close what you open\n",
    "\n",
    "- Back to the [Table of Contents](#Table-of-Contents)\n",
    "\n",
    "Once you are done working with a database, you need to remember to always close any cursors you opened, and then close the database connection itself.\n",
    "\n",
    "If you don't close what you open, you run the risk of consuming all of a database's available connections (there is always a limit to the number of concurrent connections you can have to a database) and locking yourself and others out of the database entirely until the connections time out.\n",
    "\n",
    "To close cursors and the the database connection, call the `close()` method on either object.\n",
    "\n",
    "Example:"
   ]
  },
  {
   "cell_type": "code",
   "execution_count": null,
   "metadata": {
    "collapsed": true
   },
   "outputs": [],
   "source": [
    "# close cursor\n",
    "cursor.close()\n",
    "    \n",
    "# close connection\n",
    "db.close()"
   ]
  },
  {
   "cell_type": "markdown",
   "metadata": {},
   "source": [
    "To test your open_connection() method, first run the cell above that contains its function definition, so the function is created in memory and ready to use.\n",
    "\n",
    "After the function definition has been run, use the code below to make a make a database connection using your function, create a cursor, then run a query."
   ]
  },
  {
   "cell_type": "markdown",
   "metadata": {},
   "source": [
    "## SQL\n",
    "\n",
    "- Back to the [Table of Contents](#Table-of-Contents)\n",
    "\n",
    "Now that we know how to make and use a connection to a database using Ipython, we can begin to master some SQL basics to help you get started with understanding the data and databases available. \n",
    "\n",
    "SQL is a quirky language. It is different from procedural languages like Python and is designed for a very specific purpose: to interact with relational data. It isn't structured like other languages, and while it can make data access easy, it also can make tasks that would be easy in other languages (though perhaps not exceptionally performant) confoundingly complex.  Let's dive in so you can see it for yourself!"
   ]
  },
  {
   "cell_type": "markdown",
   "metadata": {},
   "source": [
    "### Querying the database\n",
    "\n",
    "- Back to the [Table of Contents](#Table-of-Contents)\n",
    "\n",
    "The basic method of querying the database is to use a select statement:\n",
    "\n",
    "    SELECT *\n",
    "    FROM vendor; \n",
    "\n",
    "Where:\n",
    "\n",
    "- Columns or variables that would like returned are put in the SELECT clause (after the word \"SELECT\" but before the word \"FROM\").  An asterisk ( \"\\*\" ) is a wildcard - it will return all columns for a given table.\n",
    "- The name of the table (or names of the tables - more on this in a bit) you want to query is put after the word \"FROM\", in the FROM clause.\n",
    "- It is considered good style to capitalize words in an SQL query that are SQL words, not variables, table names, or values you are filtering on or searching for, ie. SELECT, FROM, WHERE, etc.\n",
    "- Although it isn't always necessary in MySQL, you should end SQL statements with a semi-colon.  It isn't required everywhere, but it is required in some contexts, so better to be aware and get into the habit.\n",
    "\n",
    "Instead of specifying “all” columns ( \"\\*\" ), you can specify which columns you want by name, in a comma-delimited list after \"SELECT\":\n",
    "\n",
    "    SELECT award_id, fipscode, paymentamount\n",
    "    FROM vendor;\n",
    "\n",
    "You can specify calculations in the list of columns also:\n",
    "\n",
    "    SELECT award_id, ( periodenddate - periodstartdate + 1 )\n",
    "    FROM vendor;\n",
    "\n",
    "And you can give those new columns names:\n",
    "\n",
    "    SELECT award_id, ( periodenddate - periodstartdate + 1 ) AS num_days\n",
    "    FROM vendor;\n",
    "    \n",
    "You can also use special keywords and functions in the SELECT clause.  For example, the keyword \"DISTINCT\", which only returns any given value in a given column once:\n",
    "\n",
    "    SELECT DISTINCT award_id\n",
    "    FROM vendor;\n",
    "    \n",
    "And \"COUNT()\", which returns a count of matching rows rather than a list:\n",
    "    \n",
    "    SELECT COUNT( DISTINCT award_id )\n",
    "    FROM vendor;"
   ]
  },
  {
   "cell_type": "markdown",
   "metadata": {},
   "source": [
    "### Exercise 1\n",
    "\n",
    "- Back to the [Table of Contents](#Table-of-Contents)\n",
    "\n",
    "Use the code block below to interact with the database to answer the questions that follow.  Re-use the `connection` and `cursor` you opened at the top of the notebook.\n",
    "\n",
    "For each question, enter:\n",
    "\n",
    "- The answer to the question.\n",
    "- The SQL query you used to find the answer.\n",
    "\n",
    "Questions:\n",
    "\n",
    "- 1) Find the number of distinct vendors in the vendor database table.\n",
    "- 2) Find the number of distinct topics in the ugrant database table.\n",
    "\n",
    "Example code:\n",
    "\n",
    "    # use cells at top to connect or re-connect to database and make cursor if needed\n",
    "\n",
    "    # declare variables\n",
    "    select_string = \"\"\n",
    "    count_value = -1\n",
    "\n",
    "    # Query template\n",
    "    select_string = \"SELECT COUNT( DISTINCT( fipscode ) ) AS fipscode_count FROM vendor;\"\n",
    "    cursor.execute( select_string )\n",
    "    row = cursor.fetchone()\n",
    "    count_value = row[ \"fipscode_count\" ]\n",
    "\n",
    "    print( \"Answer = \" + str( count_value ) + \"; select SQL = \" + select_string )\n",
    "\n",
    "#### Exercise 1 work space"
   ]
  },
  {
   "cell_type": "code",
   "execution_count": null,
   "metadata": {
    "collapsed": false,
    "nbgrader": {
     "grade": true,
     "grade_id": "E1-workspace",
     "locked": false,
     "points": 1,
     "solution": true
    }
   },
   "outputs": [],
   "source": [
    "#EXERCISE 1\n",
    "\n",
    "#declare variables\n",
    "select_string = \"\"\n",
    "count_value = -1\n",
    "\n",
    "#Question 1 - Find the number of distinct vendors in the vendor database table.\n",
    "select_string = \"SELECT COUNT(DISTINCT(institutionid)) AS vendor_count FROM vendor;\"\n",
    "cursor.execute( select_string )\n",
    "row = cursor.fetchone()\n",
    "count_value = row[ \"vendor_count\" ]\n",
    "\n",
    "print( \"Answer = \" + str( count_value ) + \"; select SQL = \" + select_string )\n",
    "\n",
    "#Question 2 - Find the number of distinct topics in the ugrant database table.\n",
    "select_string = \"SELECT COUNT(DISTINCT topic_id) AS topic_count FROM ugrant;\"\n",
    "cursor.execute( select_string )\n",
    "row = cursor.fetchone()\n",
    "count_value = row[ \"topic_count\" ]\n",
    "\n",
    "print( \"Answer = \" + str( count_value ) + \"; select SQL = \" + select_string )"
   ]
  },
  {
   "cell_type": "markdown",
   "metadata": {},
   "source": [
    "#### Question 1 - Answer"
   ]
  },
  {
   "cell_type": "markdown",
   "metadata": {
    "nbgrader": {
     "grade": true,
     "grade_id": "E1-Q1-SQL",
     "locked": false,
     "points": 1,
     "solution": true
    }
   },
   "source": []
  },
  {
   "cell_type": "markdown",
   "metadata": {},
   "source": [
    "#### Question 1 - SQL"
   ]
  },
  {
   "cell_type": "markdown",
   "metadata": {
    "nbgrader": {
     "grade": true,
     "grade_id": "E1-Q1-SQL",
     "locked": false,
     "points": 1,
     "solution": true
    }
   },
   "source": []
  },
  {
   "cell_type": "markdown",
   "metadata": {},
   "source": [
    "#### Question 2 - Answer"
   ]
  },
  {
   "cell_type": "markdown",
   "metadata": {
    "nbgrader": {
     "grade": true,
     "grade_id": "E1-Q2-answer",
     "locked": false,
     "points": 1,
     "solution": true
    }
   },
   "source": []
  },
  {
   "cell_type": "markdown",
   "metadata": {},
   "source": [
    "#### Question 2 - SQL"
   ]
  },
  {
   "cell_type": "markdown",
   "metadata": {
    "nbgrader": {
     "grade": true,
     "grade_id": "E1-Q2-SQL",
     "locked": false,
     "points": 1,
     "solution": true
    }
   },
   "source": []
  },
  {
   "cell_type": "markdown",
   "metadata": {},
   "source": [
    "### WHERE clauses: Limiting the results\n",
    "\n",
    "- Back to the [Table of Contents](#Table-of-Contents)\n",
    "\n",
    "In a SELECT query, you can add a WHERE clause to limit the results:\n",
    "\n",
    "    SELECT *\n",
    "    FROM vendor\n",
    "    WHERE periodstartdate = '2014-06-30';\n",
    "\n",
    "Where:\n",
    "\n",
    "- you are making conditional tests, just like in a Python \"if\" statement.\n",
    "- EXCEPT here, instead of \"==\" being the equality operator, it is just \"=\".\n",
    "- Comparison operators:\n",
    "\n",
    "    - \"**_`=`_**\" - equal to\n",
    "    - \"**_`!=`_**\" or \"**_`<>`_**\" - not equal to\n",
    "    - \"**_`<`_**\" - less than\n",
    "    - \"**_`<=`_**\" - less-than-or-equal-to\n",
    "    - \"**_`>`_**\" - greater than\n",
    "    - \"**_`>=`_**\" - greater-than-or-equal-to\n",
    "    - \"**_`LIKE`_**\" and \"**_`NOT LIKE`_**\" - wild-card matching operator, where percent matches 0 or more characters ( \"%\" ) and an underscore matches any 1 character ( \"_\" ).\n",
    "    - \"**_`IN( value_list )`_**\" and \"**_`NOT IN( value_list )`_**\" - checks whether the value to the left of the \"IN\", usually a column's value in a given row, is either IN or NOT IN the list on the right of the IN.\n",
    "    \n",
    "An example of using LIKE:\n",
    "\n",
    "    SELECT *\n",
    "    FROM vendor\n",
    "    WHERE agency_text LIKE '%national science%'\n",
    "\n",
    "You can specify multiple conditions for matching in your WHERE clauses, as well, to more precisely filter the results of your query:\n",
    "\n",
    "    SELECT *\n",
    "    FROM vendor\n",
    "    WHERE periodstartdate = '2014-06-30' and agency_abbrev = 'NSF'\n",
    "    \n",
    "Note:\n",
    "\n",
    "- when you are matching a column whose type is numeric, you just put the value in the query, with no quotation marks (just like in Python).\n",
    "- when you are filtering a string column, you have to include the value you are looking for (the value on the right-hand side of the equal sign) in single-quotes. They must be single-quotes, too.  Unlike in Python, double-quotes have an entirely different meaning that single quotes in SQL, and can cause your query to fail.\n",
    "\n",
    "Like \"None\" in Python, the signifier of an unset value in a column for a row is special - NULL.  To check for NULL, you use \"IS NULL\" or \"IS NOT NULL\", rather than the \"=\" or \"!=\".\n",
    "\n",
    "    /* find missing values */\n",
    "    SELECT *\n",
    "    FROM vendor\n",
    "    WHERE institutionid IS NULL;\n",
    "\n",
    "You can also explicitly cut off the number of results your query returns using the LIMIT keyword.  Just LIMITing to 10 only returns the first 10 results for the query:\n",
    "\n",
    "    SELECT *\n",
    "    FROM vendor\n",
    "    WHERE periodstartdate = '2014-06-30' and agency_abbrev = 'NSF'\n",
    "    LIMIT 10;\n",
    "    \n",
    "You can also use LIMIT to skip to the middle of the results by giving it two numbers, separated by a comma.  The first number is the number of records you want to skip, the second number is how many records you want to include after you skip:\n",
    "\n",
    "    /* skip 10, the output 15 */\n",
    "    SELECT *\n",
    "    FROM vendor\n",
    "    WHERE periodstartdate = '2014-06-30' and agency_abbrev = 'NSF'\n",
    "    LIMIT 10, 15;"
   ]
  },
  {
   "cell_type": "markdown",
   "metadata": {},
   "source": [
    "### Exercise 2\n",
    "\n",
    "- Back to the [Table of Contents](#Table-of-Contents)\n",
    "\n",
    "Use the code block below to interact with the database to answer the questions that follow.  Re-use the `connection` and `cursor` you opened at the top of the notebook.\n",
    "\n",
    "For each question, enter:\n",
    "\n",
    "- The answer to the question.\n",
    "- The SQL query you used to find the answer.\n",
    "\n",
    "Questions:\n",
    "\n",
    "- 3) Using any row in the ugrant table that is assigned topic \"45\", what is the text description of topic \"45\"?\n",
    "- 4) Using the row in the ugrant table that refers to topic ID \"45\" and award \"1707\", what is the \"fit\" of topic \"45\" to award number \"1707\"?  _Note: \"fit\" refers to the \"proportion\" column, which describes how well a machine learning algorithm calculated that the topic relates to the grant. Proportion is a value between 0 and 1.  The higher the proportion, the better the \"fit\".  To answer, state the proportion of the matching row._\n",
    "\n",
    "Example code:\n",
    "\n",
    "    # use cells at top to connect or re-connect to database and make cursor if needed\n",
    "\n",
    "    # declare variables\n",
    "    select_string = \"\"\n",
    "    column_value = -1\n",
    "\n",
    "    # Query template\n",
    "    select_string = \"SELECT * FROM ugrant WHERE program_title = 'Amazing program!';\"\n",
    "    cursor.execute( select_string )\n",
    "    row = cursor.fetchone()\n",
    "    column_value = row[ \"award_id\" ]\n",
    "\n",
    "    print( \"Answer = \" + str( column_value ) + \"; select SQL = \" + select_string )\n",
    "\n",
    "#### Exercise 2 work space"
   ]
  },
  {
   "cell_type": "code",
   "execution_count": null,
   "metadata": {
    "collapsed": false,
    "nbgrader": {
     "grade": true,
     "grade_id": "E2-workspace",
     "locked": false,
     "points": 1,
     "solution": true
    }
   },
   "outputs": [],
   "source": [
    "#EXERCISE 2\n",
    "\n",
    "#Question 3 - Using any row in the ugrant table that is assigned topic \"45\", what is the text description of topic \"45\"?\n",
    "select_string = \"SELECT topic_text FROM ugrant WHERE topic_id = '45';\"\n",
    "cursor.execute( select_string )\n",
    "row = cursor.fetchone()\n",
    "column_value = row[ \"topic_text\" ]\n",
    "\n",
    "print( \"Answer = \" + str( column_value ) + \"; select SQL = \" + select_string )\n",
    "\n",
    "#Question 4 - Using the row in the ugrant table that refers to topic ID \"45\" and award \"1707\", what is the \"fit\" of topic \"45\" to award number \"1707\"? _Note: \"fit\" refers to the \"proportion\" column, which describes how well a machine learning algorithm calculated that the topic relates to the grant. Proportion is a value between 0 and 1. The higher the proportion, the better the \"fit\". To answer, state the proportion of the matching row.\n",
    "select_string = \"SELECT proportion FROM ugrant WHERE topic_id = '45' AND award_id=1707;\"\n",
    "cursor.execute( select_string )\n",
    "row = cursor.fetchone()\n",
    "column_value = row[ \"proportion\" ]\n",
    "\n",
    "print( \"Answer = \" + str( column_value ) + \"; select SQL = \" + select_string )"
   ]
  },
  {
   "cell_type": "markdown",
   "metadata": {},
   "source": [
    "#### Question 3 - Answer"
   ]
  },
  {
   "cell_type": "markdown",
   "metadata": {
    "nbgrader": {
     "grade": true,
     "grade_id": "E2-Q3-answer",
     "locked": false,
     "points": 1,
     "solution": true
    }
   },
   "source": []
  },
  {
   "cell_type": "markdown",
   "metadata": {},
   "source": [
    "#### Question 3 - SQL"
   ]
  },
  {
   "cell_type": "markdown",
   "metadata": {
    "nbgrader": {
     "grade": true,
     "grade_id": "E2-Q3-SQL",
     "locked": false,
     "points": 1,
     "solution": true
    }
   },
   "source": []
  },
  {
   "cell_type": "markdown",
   "metadata": {},
   "source": [
    "#### Question 4 - Answer"
   ]
  },
  {
   "cell_type": "markdown",
   "metadata": {
    "nbgrader": {
     "grade": true,
     "grade_id": "E2-Q4-answer",
     "locked": false,
     "points": 1,
     "solution": true
    }
   },
   "source": []
  },
  {
   "cell_type": "markdown",
   "metadata": {},
   "source": [
    "#### Question 4 - SQL"
   ]
  },
  {
   "cell_type": "markdown",
   "metadata": {
    "nbgrader": {
     "grade": true,
     "grade_id": "E2-Q4-SQL",
     "locked": false,
     "points": 1,
     "solution": true
    }
   },
   "source": []
  },
  {
   "cell_type": "markdown",
   "metadata": {},
   "source": [
    "### JOIN: Connecting multiple tables\n",
    "\n",
    "- Back to the [Table of Contents](#Table-of-Contents)\n",
    "\n",
    "We can specify multiple tables in the FROM clause of a select query. This is called a “join”. However, when we do, we need to remember to specify how to match up rows across the two tables. Usually, there is a column that is the same in both tables that can be used to match them up. For much of the starmetrics database, that would be a column like award_id. \n",
    "\n",
    "Also, we frequently give tables temporary short names to make it easy to refer to them.\n",
    "\n",
    "    /* Lists the topics associated with each federal award */\n",
    "    SELECT DISTINCT v.award_id, g.topic_text\n",
    "    FROM vendor v, ugrant g\n",
    "    WHERE v.award_id = g.award_id;\n",
    "\n",
    "We can still use regular WHERE clauses in these queries, too, to further filter:\n",
    "\n",
    "    /* Lists the topics for each federal NSF award in 2012 */\n",
    "    SELECT DISTINCT v.award_id, g.topic_text\n",
    "    FROM vendor v, ugrant g\n",
    "    WHERE v.award_id = g.award_id\n",
    "        AND agency_abbrev = \"NSF\"\n",
    "        AND year(periodstartdate) = 2012;\n",
    "\n",
    "Table joins are the most important feature of SQL databases; they are very powerful and allow us to create all kinds of complex queries. You can also join more than two tables if you like."
   ]
  },
  {
   "cell_type": "markdown",
   "metadata": {},
   "source": [
    "### GROUP BY and aggregate functions\n",
    "\n",
    "- Back to the [Table of Contents](#Table-of-Contents)\n",
    "\n",
    "Often, one thing that you want to do is to aggregate over multiple rows. For example, \"What is the total expenditures for each award in 2012?\" To do this, use a GROUP BY clause:\n",
    "\n",
    "    /* sum vendor expenditures by award and filter by 2012 */\n",
    "    SELECT award_id, SUM(paymentamount)\n",
    "    FROM vendor\n",
    "    WHERE year(periodstartdate) = 2012\n",
    "    GROUP BY award_id;\n",
    "\n",
    "There are a number of useful aggregate functions:\n",
    "\n",
    "- **_SUM(column)_** : Calculate the sum of column for all the rows in each group\n",
    "- **_AVG(column)_** : Calculate the numeric average for all of the rows in each group\n",
    "- **_COUNT(column)_** : Count the number of rows in each group\n",
    "- **_MIN(column) and MAX(column)_** : Find the minimum or maximum value of column in all the rows in each group\n",
    "\n",
    "Often, it can be very powerful to combine GROUP BY and table joins. To figure out these queries, I recommend first getting the join to return the individual rows correctly, and then adding in the GROUP BY and aggregates."
   ]
  },
  {
   "cell_type": "markdown",
   "metadata": {},
   "source": [
    "### Exercise 3\n",
    "\n",
    "- Back to the [Table of Contents](#Table-of-Contents)\n",
    "\n",
    "Use the code block below to interact with the database to answer the questions that follow.  Re-use the `connection` and `cursor` you opened at the top of the notebook.\n",
    "\n",
    "For each question, enter:\n",
    "\n",
    "- The answer to the question.\n",
    "- The SQL query you used to find the answer.\n",
    "\n",
    "Questions:\n",
    "\n",
    "- 5) Based on information in vendor, what were the total expenditures in 2012? \n",
    "- 6) What were the total expenditures in 2012 on NSF grants?\n",
    "- 7) What were the total expenditures in 2012 on NSF grants with topic ID 45?\n",
    "\n",
    "Example code:\n",
    "\n",
    "    # use cells at top to connect or re-connect to database and make cursor if needed\n",
    "\n",
    "    # declare variables\n",
    "    select_string = \"\"\n",
    "    column_value = -1\n",
    "\n",
    "    # Query template\n",
    "    select_string = \"SELECT SUM(paymentamount) AS payment_sum\"\n",
    "    select_string += \" FROM vendor\"\n",
    "    select_string += \" WHERE year( periodstartdate ) = 2012;\"\n",
    "    cursor.execute( select_string )\n",
    "    row = cursor.fetchone()\n",
    "    column_value = row[ \"payment_sum\" ]\n",
    "\n",
    "    print( \"Answer = \" + str( column_value ) + \"; select SQL = \" + select_string )\n",
    "\n",
    "#### Exercise 3 work space"
   ]
  },
  {
   "cell_type": "code",
   "execution_count": null,
   "metadata": {
    "collapsed": false,
    "nbgrader": {
     "grade": true,
     "grade_id": "E3-workspace",
     "locked": false,
     "points": 1,
     "solution": true
    }
   },
   "outputs": [],
   "source": [
    "#EXERCISE 3\n",
    "\n",
    "#Question 5 - Based on information in vendor, what were the total expenditures in 2012?\n",
    "select_string = \"SELECT SUM(paymentamount) AS payment_sum\"\n",
    "select_string += \" FROM vendor\"\n",
    "select_string += \" WHERE year( periodstartdate ) = 2012;\"\n",
    "cursor.execute( select_string )\n",
    "row = cursor.fetchone()\n",
    "column_value = row[ \"payment_sum\" ]\n",
    "\n",
    "print( \"Answer = \" + str( column_value ) + \"; select SQL = \" + select_string )\n",
    "\n",
    "#Question 6 - What were the total expenditures in 2012 on NSF grants?\n",
    "select_string = \"SELECT SUM(paymentamount) AS nsf_sum\"\n",
    "select_string += \" FROM vendor v, ugrant g\"\n",
    "select_string += \" WHERE year( v.periodstartdate ) = 2012 AND g.agency = 'NSF';\"\n",
    "cursor.execute( select_string )\n",
    "row = cursor.fetchone()\n",
    "column_value = row[ \"nsf_sum\" ]\n",
    "\n",
    "print( \"Answer = \" + str( column_value ) + \"; select SQL = \" + select_string )\n",
    "\n",
    "#Question 7 - What were the total expenditures in 2012 on NSF grants with topic ID 45?\n",
    "select_string = \"SELECT SUM(paymentamount) AS nsf_sum\"\n",
    "select_string += \" FROM vendor v, ugrant g\"\n",
    "select_string += \" WHERE g.agency = 'NSF' AND year( v.periodstartdate ) = 2012 AND g.topic_id = 45;\"\n",
    "cursor.execute( select_string )\n",
    "row = cursor.fetchone()\n",
    "column_value = row[ \"nsf_sum\" ]\n",
    "\n",
    "print( \"Answer = \" + str( column_value ) + \"; select SQL = \" + select_string )"
   ]
  },
  {
   "cell_type": "markdown",
   "metadata": {},
   "source": [
    "#### Question 5 - Answer"
   ]
  },
  {
   "cell_type": "markdown",
   "metadata": {
    "nbgrader": {
     "grade": true,
     "grade_id": "E3-Q5-answer",
     "locked": false,
     "points": 1,
     "solution": true
    }
   },
   "source": []
  },
  {
   "cell_type": "markdown",
   "metadata": {},
   "source": [
    "#### Question 5 - SQL"
   ]
  },
  {
   "cell_type": "markdown",
   "metadata": {
    "nbgrader": {
     "grade": true,
     "grade_id": "E3-Q5-SQL",
     "locked": false,
     "points": 1,
     "solution": true
    }
   },
   "source": []
  },
  {
   "cell_type": "markdown",
   "metadata": {},
   "source": [
    "#### Question 6 - answer"
   ]
  },
  {
   "cell_type": "markdown",
   "metadata": {
    "nbgrader": {
     "grade": true,
     "grade_id": "E3-Q6-answer",
     "locked": false,
     "points": 1,
     "solution": true
    }
   },
   "source": []
  },
  {
   "cell_type": "markdown",
   "metadata": {},
   "source": [
    "#### Question 6 - SQL"
   ]
  },
  {
   "cell_type": "markdown",
   "metadata": {
    "nbgrader": {
     "grade": true,
     "grade_id": "E3-Q6-SQL",
     "locked": false,
     "points": 1,
     "solution": true
    }
   },
   "source": []
  },
  {
   "cell_type": "markdown",
   "metadata": {},
   "source": [
    "#### Question 7 - answer"
   ]
  },
  {
   "cell_type": "markdown",
   "metadata": {
    "nbgrader": {
     "grade": true,
     "grade_id": "E3-Q7-answer",
     "locked": false,
     "points": 1,
     "solution": true
    }
   },
   "source": []
  },
  {
   "cell_type": "markdown",
   "metadata": {},
   "source": [
    "#### Question 7 - SQL"
   ]
  },
  {
   "cell_type": "markdown",
   "metadata": {
    "nbgrader": {
     "grade": true,
     "grade_id": "E3-Q7-SQL",
     "locked": false,
     "points": 1,
     "solution": true
    }
   },
   "source": []
  },
  {
   "cell_type": "markdown",
   "metadata": {},
   "source": [
    "### ORDER BY\n",
    "\n",
    "- Back to the [Table of Contents](#Table-of-Contents)\n",
    "\n",
    "Normally, the results are returned in the order they appear in the database. However, it can be very useful to re-order the results using ORDER BY:\n",
    "\n",
    "    SELECT award_id, paymentamount\n",
    "    FROM vendor v, ugrant g\n",
    "    WHERE v.award_id = g.award_id\n",
    "    ORDER BY g.award_id\n",
    "\n",
    "(After you specify which column to order by, you can optionally specify either ASC for ascending order, or DESC for descending order.)\n",
    "\n",
    "Using ORDER BY with custom column names can be really useful when combined with GROUP BY:\n",
    "\n",
    "    SELECT award_id, SUM(paymentamount)\n",
    "    FROM vendor\n",
    "    WHERE year(periodstartdate) = 2012\n",
    "    GROUP BY award_id\n",
    "    ORDER BY sum(paymentamount) DESC"
   ]
  },
  {
   "cell_type": "markdown",
   "metadata": {},
   "source": [
    "### Modifying the database\n",
    "\n",
    "- Back to the [Table of Contents](#Table-of-Contents)\n",
    "\n",
    "In addition to retrieving information from an existing database, you can also insert data into a database, update existing rows, and delete records using SQL. Permissions on databases generally will not allow you to modify the databases. For these exercises, we open an additional connection to your individual user database. \n",
    "\n",
    "Here are some example queries:\n",
    "\n",
    "- **CREATE**: Adding a table to a database\n",
    "\n",
    "        CREATE TABLE cjones.data (\n",
    "        ID int(11) auto_increment primary key, \n",
    "        name_first varchar(20)\n",
    "        name_last varchar(30))\n",
    "\n",
    "- **INSERT**: Adding a row to a table\n",
    "\n",
    "        INSERT INTO cjones.data\n",
    "        (name_first, name_last)\n",
    "        VALUES ('Christina', 'Jones')\n",
    "\n",
    "- **UPDATE**: Changing data that is already in a table\n",
    "\n",
    "        UPDATE cjones.data\n",
    "        SET name_last = 'Johnson'\n",
    "        WHERE name_first = 'Christina'\n",
    "        \n",
    "- **ALTER TABLE**: Changing the structure of an existing table\n",
    "\n",
    "        ALTER TABLE cjones.data\n",
    "            ADD COLUMN gender VARCHAR(1) DEFAULT 'F'\n",
    "\n",
    "- **DELETE**: Removing one or more rows from a table\n",
    "\n",
    "        DELETE FROM cjones.data\n",
    "        WHERE name_last = 'johnson'\n",
    "\n",
    "- **DELETE**: removing table from database\n",
    "\n",
    "        DELETE cjones.data\n",
    "\n",
    "\n",
    "Lastly, you can also CREATE a table using an existing table. \n",
    "\n",
    "- **CREATE**: Adding a table to a database\n",
    "\n",
    "        CREATE TABLE cjones.vendor (\n",
    "        SELECT * FROM homework.vendor\n",
    "        WHERE year(periodstartdate) = 2012\n",
    "        and agency_abbrev = 'NSF');"
   ]
  },
  {
   "cell_type": "markdown",
   "metadata": {},
   "source": [
    "## Addendum - Different ways to make a cursor\n",
    "\n",
    "- Back to the [Table of Contents](#Table-of-Contents)\n",
    "\n",
    "The way you create your cursor dictates the format of the rows you'll get back.\n",
    "\n",
    "If you create your cursor by calling `cursor()` with no arguments, when you iterate over the results, each row will simply be a tuple (list) of the values in the row.  To reference a given value, you reference the position of that value in the row.\n",
    "\n",
    "Example that shows the tuple row format:"
   ]
  },
  {
   "cell_type": "code",
   "execution_count": null,
   "metadata": {
    "collapsed": false,
    "scrolled": true
   },
   "outputs": [],
   "source": [
    "# use cells at top to connect or re-connect to database and make cursor if needed\n",
    "\n",
    "# create cursor with call to cursor(), no arguments.\n",
    "cursor = db.cursor()\n",
    "\n",
    "# run a simple select statement against our homework data.\n",
    "sql_select = \"SELECT * FROM vendor\"\n",
    "cursor.execute( sql_select )\n",
    "\n",
    "# output the underlying structure of a single row.\n",
    "single_row = cursor.fetchone()\n",
    "print( single_row )\n",
    "\n",
    "# get institutionid - column 2 (3rd column, starts with 0, so column 2)\n",
    "institution_value = single_row[ 2 ]\n",
    "print( \"====> institution = \" + institution_value )"
   ]
  },
  {
   "cell_type": "markdown",
   "metadata": {},
   "source": [
    "If you call the `cursor()` method with `pymysql.cursors.DictCursor` as the sole argument, when you access a row in the results from executing a query, each row is a dictionary that maps a column's name to that column's value, and you reference a given column by its name.  This is how our initial loop over rows worked above.\n",
    "\n",
    "Example that shows the dictionary row format:"
   ]
  },
  {
   "cell_type": "code",
   "execution_count": null,
   "metadata": {
    "collapsed": false
   },
   "outputs": [],
   "source": [
    "# use cells at top to connect or re-connect to database and make cursor if needed\n",
    "\n",
    "# create cursor with call to cursor(), but asking it to make\n",
    "#    a dictionary cursor (DictCursor).\n",
    "cursor = db.cursor( pymysql.cursors.DictCursor )\n",
    "\n",
    "# run a simple select statement against our homework data.\n",
    "sql_select = \"SELECT * FROM vendor\"\n",
    "cursor.execute( sql_select )\n",
    "\n",
    "# output the underlying structure of a single row.\n",
    "single_row = cursor.fetchone()\n",
    "print( single_row )\n",
    "\n",
    "# get institution - who cares what position it is in!\n",
    "institution_value = single_row[ \"institutionid\" ]\n",
    "print( \"====> institution = \" + institution_value )"
   ]
  },
  {
   "cell_type": "markdown",
   "metadata": {},
   "source": [
    "In general, we will be using the dictionary cursor, so opening our cursors with:\n",
    "\n",
    "    cursor = db.cursor( pymysql.cursors.DictCursor )\n",
    "    \n",
    "rather than\n",
    "\n",
    "    cursor = db.cursor()\n",
    "\n",
    "Referencing items in a row by name means you can alter the order or contents of the results of a query and not have to change code that refers to those results unless you removed columns referenced in the code.  In addition, it makes one's code more self-documenting - the names of the columns you are retrieving are built right into the code that retrieves them."
   ]
  }
 ],
 "metadata": {
  "celltoolbar": "Create Assignment",
  "kernelspec": {
   "display_name": "Python 2",
   "language": "python",
   "name": "python2"
  },
  "language_info": {
   "codemirror_mode": {
    "name": "ipython",
    "version": 2
   },
   "file_extension": ".py",
   "mimetype": "text/x-python",
   "name": "python",
   "nbconvert_exporter": "python",
   "pygments_lexer": "ipython2",
   "version": "2.7.11"
  }
 },
 "nbformat": 4,
 "nbformat_minor": 0
}
